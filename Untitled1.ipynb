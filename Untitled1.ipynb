{
  "nbformat": 4,
  "nbformat_minor": 0,
  "metadata": {
    "colab": {
      "provenance": [],
      "authorship_tag": "ABX9TyN+EU2yds3NpV78gC6PFP6y",
      "include_colab_link": true
    },
    "kernelspec": {
      "name": "python3",
      "display_name": "Python 3"
    },
    "language_info": {
      "name": "python"
    }
  },
  "cells": [
    {
      "cell_type": "markdown",
      "metadata": {
        "id": "view-in-github",
        "colab_type": "text"
      },
      "source": [
        "<a href=\"https://colab.research.google.com/github/ElijahMorales04/reu-tribolium-modeling/blob/main/Untitled1.ipynb\" target=\"_parent\"><img src=\"https://colab.research.google.com/assets/colab-badge.svg\" alt=\"Open In Colab\"/></a>"
      ]
    },
    {
      "cell_type": "code",
      "execution_count": 1,
      "metadata": {
        "id": "dY70puufjKSE"
      },
      "outputs": [],
      "source": [
        "import numpy as np\n",
        "import matplotlib.pyplot as plt\n",
        "\n",
        "# Define parameters\n",
        "b = 20  # Average larval recruitment, without cannibalism\n",
        "c_ea = 0.0003  # Cannibalism rate of eggs being eaten by adults\n",
        "c_el = 0.0179  # Cannibalism rate of eggs being eaten by larvae\n",
        "c_pa = 0  # Cannibalism rate of pupae being eaten by adults\n",
        "mu_l = 0.6053  # Natural mortality proportion of larvae\n",
        "mu_a = 0.0842  # Natural mortality proportion of adults\n",
        "gamma_r = 0.3  # Dispersal proportion of resident-class\n",
        "gamma_m = 0  #Dispersal proportion of mutant-class\n",
        "epsilon = 0.1  # Mortality from dispersal proportion\n",
        "\n",
        "# Time steps\n",
        "T = 52  # Total time steps\n",
        "\n",
        "# Initialize arrays for population counts in each patch (4 patches)\n",
        "L_r = np.zeros((4, T))\n",
        "P_r = np.zeros((4, T))\n",
        "A_r = np.zeros((4, T))\n",
        "\n",
        "# Initial conditions\n",
        "A_r[:, 0] = 10  # Initial resident adults in all patches"
      ]
    }
  ]
}