{
  "nbformat": 4,
  "nbformat_minor": 0,
  "metadata": {
    "colab": {
      "provenance": [],
      "authorship_tag": "ABX9TyN8DIyGBZPthfOSz9AtUDot",
      "include_colab_link": true
    },
    "kernelspec": {
      "name": "python3",
      "display_name": "Python 3"
    },
    "language_info": {
      "name": "python"
    }
  },
  "cells": [
    {
      "cell_type": "markdown",
      "metadata": {
        "id": "view-in-github",
        "colab_type": "text"
      },
      "source": [
        "<a href=\"https://colab.research.google.com/github/ElijahMorales04/reu-tribolium-modeling/blob/main/Numerical_Solution_to_Model_1.ipynb\" target=\"_parent\"><img src=\"https://colab.research.google.com/assets/colab-badge.svg\" alt=\"Open In Colab\"/></a>"
      ]
    },
    {
      "cell_type": "code",
      "execution_count": 1,
      "metadata": {
        "id": "-yHLGNB6C7LO",
        "colab": {
          "base_uri": "https://localhost:8080/",
          "height": 211
        },
        "outputId": "94e4d218-4486-403a-b265-d48a259d0a7b"
      },
      "outputs": [
        {
          "output_type": "error",
          "ename": "TypeError",
          "evalue": "bad operand type for unary -: 'tuple'",
          "traceback": [
            "\u001b[0;31m---------------------------------------------------------------------------\u001b[0m",
            "\u001b[0;31mTypeError\u001b[0m                                 Traceback (most recent call last)",
            "\u001b[0;32m<ipython-input-1-2780535376>\u001b[0m in \u001b[0;36m<cell line: 0>\u001b[0;34m()\u001b[0m\n\u001b[1;32m     31\u001b[0m     \u001b[0;32mfor\u001b[0m \u001b[0mi\u001b[0m \u001b[0;32min\u001b[0m \u001b[0mrange\u001b[0m\u001b[0;34m(\u001b[0m\u001b[0;36m1\u001b[0m\u001b[0;34m,\u001b[0m \u001b[0mlen\u001b[0m\u001b[0;34m(\u001b[0m\u001b[0ms\u001b[0m\u001b[0;34m)\u001b[0m \u001b[0;34m-\u001b[0m \u001b[0;36m1\u001b[0m\u001b[0;34m)\u001b[0m\u001b[0;34m:\u001b[0m  \u001b[0;31m# Loop over each stage, excluding boundaries\u001b[0m\u001b[0;34m\u001b[0m\u001b[0;34m\u001b[0m\u001b[0m\n\u001b[1;32m     32\u001b[0m         \u001b[0;32mif\u001b[0m \u001b[0ms\u001b[0m\u001b[0;34m[\u001b[0m\u001b[0mi\u001b[0m\u001b[0;34m]\u001b[0m \u001b[0;34m<\u001b[0m \u001b[0ms1\u001b[0m\u001b[0;34m:\u001b[0m  \u001b[0;31m# Eggs and early instar larvae\u001b[0m\u001b[0;34m\u001b[0m\u001b[0;34m\u001b[0m\u001b[0m\n\u001b[0;32m---> 33\u001b[0;31m             \u001b[0mp\u001b[0m\u001b[0;34m[\u001b[0m\u001b[0mi\u001b[0m\u001b[0;34m,\u001b[0m \u001b[0mn\u001b[0m\u001b[0;34m+\u001b[0m\u001b[0;36m1\u001b[0m\u001b[0;34m]\u001b[0m \u001b[0;34m=\u001b[0m \u001b[0mp\u001b[0m\u001b[0;34m[\u001b[0m\u001b[0mi\u001b[0m\u001b[0;34m,\u001b[0m \u001b[0mn\u001b[0m\u001b[0;34m]\u001b[0m \u001b[0;34m+\u001b[0m \u001b[0mdt\u001b[0m \u001b[0;34m*\u001b[0m \u001b[0;34m(\u001b[0m\u001b[0;34m-\u001b[0m\u001b[0mg\u001b[0m \u001b[0;34m*\u001b[0m \u001b[0;34m(\u001b[0m\u001b[0mp\u001b[0m\u001b[0;34m[\u001b[0m\u001b[0mi\u001b[0m\u001b[0;34m+\u001b[0m\u001b[0;36m1\u001b[0m\u001b[0;34m,\u001b[0m \u001b[0mn\u001b[0m\u001b[0;34m]\u001b[0m \u001b[0;34m-\u001b[0m \u001b[0mp\u001b[0m\u001b[0;34m[\u001b[0m\u001b[0mi\u001b[0m\u001b[0;34m,\u001b[0m \u001b[0mn\u001b[0m\u001b[0;34m]\u001b[0m\u001b[0;34m)\u001b[0m \u001b[0;34m/\u001b[0m \u001b[0mds\u001b[0m \u001b[0;34m-\u001b[0m \u001b[0mc_ea\u001b[0m \u001b[0;34m*\u001b[0m \u001b[0mA\u001b[0m\u001b[0;34m[\u001b[0m\u001b[0mn\u001b[0m\u001b[0;34m]\u001b[0m \u001b[0;34m-\u001b[0m \u001b[0mc_el\u001b[0m \u001b[0;34m*\u001b[0m \u001b[0mintegral_s1_s2\u001b[0m\u001b[0;34m)\u001b[0m\u001b[0;34m\u001b[0m\u001b[0;34m\u001b[0m\u001b[0m\n\u001b[0m\u001b[1;32m     34\u001b[0m         \u001b[0;32melif\u001b[0m \u001b[0ms1\u001b[0m \u001b[0;34m<=\u001b[0m \u001b[0ms\u001b[0m\u001b[0;34m[\u001b[0m\u001b[0mi\u001b[0m\u001b[0;34m]\u001b[0m \u001b[0;34m<\u001b[0m \u001b[0ms2\u001b[0m\u001b[0;34m:\u001b[0m  \u001b[0;31m# Feeding larvae\u001b[0m\u001b[0;34m\u001b[0m\u001b[0;34m\u001b[0m\u001b[0m\n\u001b[1;32m     35\u001b[0m             \u001b[0mp\u001b[0m\u001b[0;34m[\u001b[0m\u001b[0mi\u001b[0m\u001b[0;34m,\u001b[0m \u001b[0mn\u001b[0m\u001b[0;34m+\u001b[0m\u001b[0;36m1\u001b[0m\u001b[0;34m]\u001b[0m \u001b[0;34m=\u001b[0m \u001b[0mp\u001b[0m\u001b[0;34m[\u001b[0m\u001b[0mi\u001b[0m\u001b[0;34m,\u001b[0m \u001b[0mn\u001b[0m\u001b[0;34m]\u001b[0m \u001b[0;34m+\u001b[0m \u001b[0mdt\u001b[0m \u001b[0;34m*\u001b[0m \u001b[0;34m(\u001b[0m\u001b[0;34m-\u001b[0m\u001b[0mg\u001b[0m \u001b[0;34m*\u001b[0m \u001b[0;34m(\u001b[0m\u001b[0mp\u001b[0m\u001b[0;34m[\u001b[0m\u001b[0mi\u001b[0m\u001b[0;34m+\u001b[0m\u001b[0;36m1\u001b[0m\u001b[0;34m,\u001b[0m \u001b[0mn\u001b[0m\u001b[0;34m]\u001b[0m \u001b[0;34m-\u001b[0m \u001b[0mp\u001b[0m\u001b[0;34m[\u001b[0m\u001b[0mi\u001b[0m\u001b[0;34m,\u001b[0m \u001b[0mn\u001b[0m\u001b[0;34m]\u001b[0m\u001b[0;34m)\u001b[0m \u001b[0;34m/\u001b[0m \u001b[0mds\u001b[0m \u001b[0;34m-\u001b[0m \u001b[0mmu_l\u001b[0m \u001b[0;34m*\u001b[0m \u001b[0mintegral_s1_s2\u001b[0m\u001b[0;34m)\u001b[0m\u001b[0;34m\u001b[0m\u001b[0;34m\u001b[0m\u001b[0m\n",
            "\u001b[0;31mTypeError\u001b[0m: bad operand type for unary -: 'tuple'"
          ]
        }
      ],
      "source": [
        "import numpy as np\n",
        "import matplotlib.pyplot as plt\n",
        "\n",
        "# Define parameters\n",
        "g = ()  # Growth rate\n",
        "c_ea = ()  # Cannibalism rate of eggs by adults\n",
        "c_el = ()  # Cannibalism rate of eggs by larvae\n",
        "c_pa = ()  # Cannibalism rate of pupae by adults\n",
        "b = ()  # Birth rate of new eggs\n",
        "mu_l = ()  # Natural death rate of feeding larvae\n",
        "mu_a = ()  # Natural death rate of adults\n",
        "s1, s2, s3 = 1, 2, 3  # Stage boundaries\n",
        "\n",
        "# Define discretization\n",
        "ds = 0.1  # Discretization step for the stage variable\n",
        "dt = 0.01  # Discretization step for the time variable\n",
        "s = np.arange(0, 4, ds)  # Stage variable array from 0 to 4 with step size ds\n",
        "t = np.arange(0, 100, dt)  # Time variable array from 0 to 100 with step size dt\n",
        "\n",
        "# Initialize population densities\n",
        "p = np.zeros((len(s), len(t)))  # Initialize population density matrix for stages and time\n",
        "A = np.zeros(len(t))  # Initialize adult population array for time\n",
        "\n",
        "# Initial conditions\n",
        "p[:, 0] = 0  # Initial condition for population density: 0 eggs, 0 larvae, 0 pupae\n",
        "A[0] = 50  # Initial condition for adult population: 50 adults\n",
        "\n",
        "# Time-stepping loop\n",
        "for n in range(len(t) - 1):  # Loop over each time step\n",
        "    integral_s1_s2 = np.sum(p[int(s1/ds):int(s2/ds), n]) * ds  # Integral approximation for feeding larvae\n",
        "    for i in range(1, len(s) - 1):  # Loop over each stage, excluding boundaries\n",
        "        if s[i] < s1:  # Eggs and early instar larvae\n",
        "            p[i, n+1] = p[i, n] + dt * (-g * (p[i+1, n] - p[i, n]) / ds - c_ea * A[n] - c_el * integral_s1_s2)\n",
        "        elif s1 <= s[i] < s2:  # Feeding larvae\n",
        "            p[i, n+1] = p[i, n] + dt * (-g * (p[i+1, n] - p[i, n]) / ds - mu_l * integral_s1_s2)\n",
        "        elif s2 <= s[i] < s3:  # Non-feeding larvae, pupae, and callow adults\n",
        "            p[i, n+1] = p[i, n] + dt * (-g * (p[i+1, n] - p[i, n]) / ds - c_pa * A[n])\n",
        "\n",
        "    # Boundary conditions\n",
        "    p[0, n+1] = b * A[n]  # Boundary condition for eggs\n",
        "    p[int(s1/ds), n+1] = p[int(s1/ds), n] + dt * g * p[int(s1/ds), n]  # Boundary condition for feeding larvae\n",
        "    p[int(s2/ds), n+1] = p[int(s2/ds), n] + dt * g * p[int(s2/ds), n]  # Boundary condition for non-feeding larvae\n",
        "\n",
        "    # Adults ODE\n",
        "    A[n+1] = A[n] + dt * (g * p[int(s3/ds), n] - mu_a * A[n])  # Update for adult population using ODE\n",
        "\n",
        "# Plot results\n",
        "plt.plot(s, p[:, -1], label='p(s, t)')  # Plot population density at the last time step\n",
        "plt.plot([s3], [A[-1]], 'ro', label='A(t)')  # Plot adult population at the last time step\n",
        "plt.xlabel('s')\n",
        "plt.ylabel('Population Density')\n",
        "plt.legend()\n",
        "plt.show()"
      ]
    },
    {
      "cell_type": "code",
      "source": [],
      "metadata": {
        "id": "uiP0jBdvnwJk"
      },
      "execution_count": null,
      "outputs": []
    }
  ]
}